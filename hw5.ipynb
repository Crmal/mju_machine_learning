{
 "cells": [
  {
   "cell_type": "code",
   "execution_count": 1,
   "metadata": {},
   "outputs": [
    {
     "name": "stdout",
     "output_type": "stream",
     "text": [
      "[[89 10]\n",
      " [25 30]]\n"
     ]
    }
   ],
   "source": [
    "from sklearn.linear_model import LogisticRegression\n",
    "from sklearn.metrics import accuracy_score, confusion_matrix\n",
    "\n",
    "import pandas as pd\n",
    "\n",
    "col_names = ['pregnant', 'glucose', 'bp', 'skin', 'insulin', 'bmi', 'pedigree', 'age', 'label']\n",
    "# Pandas Data 읽기 맨 위 컬럼의 값을 col_names로 정하기\n",
    "pima = pd.read_csv(\"diabetes.csv\", header=None, names=col_names)\n",
    "feature_cols = ['pregnant', 'insulin', 'bmi', 'age','glucose','bp','pedigree']\n",
    "\n",
    "X = pima[feature_cols] # Features\n",
    "y = pima.label # Target variable\n",
    "\n",
    "split = int(len(X) * 0.8)\n",
    "\n",
    "train_feature = X[1:split]\n",
    "train_label = y[1:split]\n",
    "\n",
    "test_feature = X[split:]\n",
    "test_label = y[split:]\n",
    "\n",
    "model = LogisticRegression(max_iter=10000)\n",
    "model.fit(train_feature, train_label)\n",
    "pred = model.predict(test_feature)\n",
    "\n",
    "print(confusion_matrix(test_label,pred))\n",
    "\n",
    "# TP=89, FN=10, FP=25, TN=30\n",
    "# Accuracy = (89+30) / (89+10+25+30) = 0.77\n",
    "# Precision = 89 / (89 + 25) = 0.78           //True예측한 결과값중 예측한 정도 \n",
    "# Recall = 89 / (89 + 10) = 0.9               //실제True의값을 맞춘정도\n",
    "# Specifticity = 25/(25+30) = 0.45            //실제False의 값을 맞춘 정도\n",
    "# 위와 같은 수치의 정확도를 나타냄\n",
    "# Accuracy의 수치는 0.77이나 Recall값은 0.9 Specifticity값은 0.45의 차이가 있는것으로 보아 True로 예측하는 것에 더욱 정확도가있다고 해석할수 있다."
   ]
  }
 ],
 "metadata": {
  "interpreter": {
   "hash": "0b0c74892d993a52e8605039a117d52b434d3d5fb01d52937a03bde9c1e9c9b1"
  },
  "kernelspec": {
   "display_name": "Python 3.8.12 64-bit ('machine_learning': conda)",
   "name": "python3"
  },
  "language_info": {
   "codemirror_mode": {
    "name": "ipython",
    "version": 3
   },
   "file_extension": ".py",
   "mimetype": "text/x-python",
   "name": "python",
   "nbconvert_exporter": "python",
   "pygments_lexer": "ipython3",
   "version": "3.8.12"
  },
  "orig_nbformat": 4
 },
 "nbformat": 4,
 "nbformat_minor": 2
}
