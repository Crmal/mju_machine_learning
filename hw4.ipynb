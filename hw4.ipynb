{
 "cells": [
  {
   "cell_type": "code",
   "execution_count": 2,
   "metadata": {},
   "outputs": [
    {
     "name": "stdout",
     "output_type": "stream",
     "text": [
      "Mean squared error : 100.76\n",
      "Mean squared error : 100.76\n"
     ]
    }
   ],
   "source": [
    "#정보통신공학과 60181891 박재민\n",
    "import numpy as np\n",
    "import matplotlib.pyplot as plt\n",
    "\n",
    "from sklearn.linear_model import LinearRegression\n",
    "from sklearn.model_selection import train_test_split\n",
    "from sklearn.metrics import mean_squared_error\n",
    "\n",
    "datas = np.loadtxt('weightHeight.csv', delimiter=\",\")\n",
    "\n",
    "mans_data = datas[datas[:,0] == 0] # datas에서 첫번째 행이 0인것을 추출(남자의 데이터)\n",
    "\n",
    "mans_data_x = np.expand_dims(mans_data[:,1],axis=1) # 남자의 몸무게\n",
    "mans_data_y = np.expand_dims(mans_data[:,2],axis=1) # 남자의 키\n",
    "\n",
    "train_x, test_x, train_y, test_y = train_test_split(mans_data_x, mans_data_y, test_size = 0.2) # 남자의 키,몸무게데이터를 랜덤하게 20%로 나눔\n",
    "\n",
    "reg = LinearRegression() #모델생성\n",
    "\n",
    "reg.fit(train_x,train_y) \n",
    "\n",
    "\n",
    "MSE = mean_squared_error(reg.predict(test_x),test_y) #mean_squared_error함수를 이용한 MSE\n",
    "\n",
    "print(\"Mean squared error : %.2f\"% MSE)\n",
    "print(\"Mean squared error : %.2f\"% np.mean((reg.predict(test_x)-test_y)**2)) #np함수를 이용한 MSE\n",
    "\n",
    "\n",
    "\n",
    "\n",
    "\n"
   ]
  }
 ],
 "metadata": {
  "interpreter": {
   "hash": "c0f75a12781c269ab9a57a22a469921f050ae98ccb66b92f2d60402d29e78ee8"
  },
  "kernelspec": {
   "display_name": "Python 3.8.12 64-bit ('mju': conda)",
   "name": "python3"
  },
  "language_info": {
   "codemirror_mode": {
    "name": "ipython",
    "version": 3
   },
   "file_extension": ".py",
   "mimetype": "text/x-python",
   "name": "python",
   "nbconvert_exporter": "python",
   "pygments_lexer": "ipython3",
   "version": "3.8.12"
  },
  "orig_nbformat": 4
 },
 "nbformat": 4,
 "nbformat_minor": 2
}
