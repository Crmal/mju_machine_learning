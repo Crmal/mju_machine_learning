{
 "cells": [
  {
   "cell_type": "code",
   "execution_count": 9,
   "metadata": {},
   "outputs": [
    {
     "name": "stdout",
     "output_type": "stream",
     "text": [
      "Epoch 1/30\n",
      "WARNING:tensorflow:AutoGraph could not transform <function Model.make_train_function.<locals>.train_function at 0x17d5880d0> and will run it as-is.\n",
      "Please report this to the TensorFlow team. When filing the bug, set the verbosity to 10 (on Linux, `export AUTOGRAPH_VERBOSITY=10`) and attach the full output.\n",
      "Cause: unsupported operand type(s) for -: 'NoneType' and 'int'\n",
      "To silence this warning, decorate the function with @tf.autograph.experimental.do_not_convert\n",
      "WARNING: AutoGraph could not transform <function Model.make_train_function.<locals>.train_function at 0x17d5880d0> and will run it as-is.\n",
      "Please report this to the TensorFlow team. When filing the bug, set the verbosity to 10 (on Linux, `export AUTOGRAPH_VERBOSITY=10`) and attach the full output.\n",
      "Cause: unsupported operand type(s) for -: 'NoneType' and 'int'\n",
      "To silence this warning, decorate the function with @tf.autograph.experimental.do_not_convert\n"
     ]
    },
    {
     "name": "stderr",
     "output_type": "stream",
     "text": [
      "2021-10-26 04:12:30.700114: I tensorflow/python/profiler/internal/profiler_wrapper.cc:182] Profiling will start immediately because delay_ms was unset or zero.\n",
      "2021-10-26 04:12:30.700135: I tensorflow/core/profiler/lib/profiler_session.cc:133] Profiler session started.\n",
      "2021-10-26 04:12:30.737225: I tensorflow/compiler/mlir/mlir_graph_optimization_pass.cc:116] None of the MLIR optimization passes are enabled (registered 2)\n",
      "2021-10-26 04:12:30.739469: W tensorflow/core/platform/profile_utils/cpu_utils.cc:126] Failed to get CPU frequency: 0 Hz\n"
     ]
    },
    {
     "name": "stdout",
     "output_type": "stream",
     "text": [
      "20/40 [==============>...............] - ETA: 0s - loss: 3.3184 - accuracy: 0.3508WARNING:tensorflow:AutoGraph could not transform <function Model.make_test_function.<locals>.test_function at 0x2955a3ee0> and will run it as-is.\n",
      "Please report this to the TensorFlow team. When filing the bug, set the verbosity to 10 (on Linux, `export AUTOGRAPH_VERBOSITY=10`) and attach the full output.\n",
      "Cause: unsupported operand type(s) for -: 'NoneType' and 'int'\n",
      "To silence this warning, decorate the function with @tf.autograph.experimental.do_not_convert\n",
      "WARNING: AutoGraph could not transform <function Model.make_test_function.<locals>.test_function at 0x2955a3ee0> and will run it as-is.\n",
      "Please report this to the TensorFlow team. When filing the bug, set the verbosity to 10 (on Linux, `export AUTOGRAPH_VERBOSITY=10`) and attach the full output.\n",
      "Cause: unsupported operand type(s) for -: 'NoneType' and 'int'\n",
      "To silence this warning, decorate the function with @tf.autograph.experimental.do_not_convert\n",
      "40/40 [==============================] - 0s 5ms/step - loss: 2.3182 - accuracy: 0.5089 - val_loss: 0.3348 - val_accuracy: 0.9185\n",
      "Epoch 2/30\n",
      "40/40 [==============================] - 0s 1ms/step - loss: 0.2360 - accuracy: 0.9426 - val_loss: 0.2126 - val_accuracy: 0.9370\n",
      "Epoch 3/30\n",
      " 1/40 [..............................] - ETA: 0s - loss: 0.2078 - accuracy: 0.9375"
     ]
    },
    {
     "name": "stderr",
     "output_type": "stream",
     "text": [
      "2021-10-26 04:12:31.026238: I tensorflow/python/profiler/internal/profiler_wrapper.cc:182] Profiling will start immediately because delay_ms was unset or zero.\n",
      "2021-10-26 04:12:31.026312: I tensorflow/core/profiler/lib/profiler_session.cc:133] Profiler session started.\n",
      "2021-10-26 04:12:31.035410: I tensorflow/core/profiler/rpc/client/save_profile.cc:133] Creating directory: ./graph/train/plugins/profile/2021_10_26_04_12_31\n",
      "2021-10-26 04:12:31.036245: I tensorflow/core/profiler/rpc/client/save_profile.cc:139] Dumped gzipped tool data for trace.json.gz to ./graph/train/plugins/profile/2021_10_26_04_12_31/bagjaemin-ui-MacBookAir.local.trace.json.gz\n",
      "2021-10-26 04:12:31.039824: I tensorflow/core/profiler/rpc/client/save_profile.cc:133] Creating directory: ./graph/train/plugins/profile/2021_10_26_04_12_31\n",
      "2021-10-26 04:12:31.040024: I tensorflow/core/profiler/rpc/client/save_profile.cc:139] Dumped gzipped tool data for memory_profile.json.gz to ./graph/train/plugins/profile/2021_10_26_04_12_31/bagjaemin-ui-MacBookAir.local.memory_profile.json.gz\n",
      "2021-10-26 04:12:31.040451: I tensorflow/core/profiler/rpc/client/capture_profile.cc:235] Creating directory: ./graph/train/plugins/profile/2021_10_26_04_12_31Dumped tool data for xplane.pb to ./graph/train/plugins/profile/2021_10_26_04_12_31/bagjaemin-ui-MacBookAir.local.xplane.pb\n",
      "Dumped tool data for overview_page.pb to ./graph/train/plugins/profile/2021_10_26_04_12_31/bagjaemin-ui-MacBookAir.local.overview_page.pb\n",
      "Dumped tool data for input_pipeline.pb to ./graph/train/plugins/profile/2021_10_26_04_12_31/bagjaemin-ui-MacBookAir.local.input_pipeline.pb\n",
      "Dumped tool data for tensorflow_stats.pb to ./graph/train/plugins/profile/2021_10_26_04_12_31/bagjaemin-ui-MacBookAir.local.tensorflow_stats.pb\n",
      "Dumped tool data for kernel_stats.pb to ./graph/train/plugins/profile/2021_10_26_04_12_31/bagjaemin-ui-MacBookAir.local.kernel_stats.pb\n",
      "\n"
     ]
    },
    {
     "name": "stdout",
     "output_type": "stream",
     "text": [
      "40/40 [==============================] - 0s 1ms/step - loss: 0.1597 - accuracy: 0.9600 - val_loss: 0.1705 - val_accuracy: 0.9444\n",
      "Epoch 4/30\n",
      "40/40 [==============================] - 0s 1ms/step - loss: 0.1027 - accuracy: 0.9789 - val_loss: 0.1689 - val_accuracy: 0.9519\n",
      "Epoch 5/30\n",
      "40/40 [==============================] - 0s 2ms/step - loss: 0.0747 - accuracy: 0.9872 - val_loss: 0.1857 - val_accuracy: 0.9519\n",
      "Epoch 6/30\n",
      "40/40 [==============================] - 0s 1ms/step - loss: 0.0891 - accuracy: 0.9807 - val_loss: 0.1751 - val_accuracy: 0.9500\n",
      "Epoch 7/30\n",
      "40/40 [==============================] - 0s 3ms/step - loss: 0.0639 - accuracy: 0.9895 - val_loss: 0.1325 - val_accuracy: 0.9593\n",
      "Epoch 8/30\n",
      "40/40 [==============================] - 0s 1ms/step - loss: 0.0467 - accuracy: 0.9919 - val_loss: 0.1176 - val_accuracy: 0.9648\n",
      "Epoch 9/30\n",
      "40/40 [==============================] - 0s 1ms/step - loss: 0.0371 - accuracy: 0.9969 - val_loss: 0.1127 - val_accuracy: 0.9593\n",
      "Epoch 10/30\n",
      "40/40 [==============================] - 0s 1ms/step - loss: 0.0308 - accuracy: 0.9984 - val_loss: 0.1231 - val_accuracy: 0.9556\n",
      "Epoch 11/30\n",
      "40/40 [==============================] - 0s 1ms/step - loss: 0.0344 - accuracy: 0.9953 - val_loss: 0.1077 - val_accuracy: 0.9648\n",
      "Epoch 12/30\n",
      "40/40 [==============================] - 0s 1ms/step - loss: 0.0277 - accuracy: 0.9992 - val_loss: 0.1067 - val_accuracy: 0.9648\n",
      "Epoch 13/30\n",
      "40/40 [==============================] - 0s 1ms/step - loss: 0.0312 - accuracy: 0.9979 - val_loss: 0.1010 - val_accuracy: 0.9630\n",
      "Epoch 14/30\n",
      "40/40 [==============================] - 0s 2ms/step - loss: 0.0234 - accuracy: 0.9985 - val_loss: 0.0996 - val_accuracy: 0.9667\n",
      "Epoch 15/30\n",
      "40/40 [==============================] - 0s 1ms/step - loss: 0.0240 - accuracy: 0.9964 - val_loss: 0.0979 - val_accuracy: 0.9685\n",
      "Epoch 16/30\n",
      "40/40 [==============================] - 0s 1ms/step - loss: 0.0199 - accuracy: 0.9983 - val_loss: 0.0956 - val_accuracy: 0.9704\n",
      "Epoch 17/30\n",
      "40/40 [==============================] - 0s 2ms/step - loss: 0.0221 - accuracy: 1.0000 - val_loss: 0.0950 - val_accuracy: 0.9685\n",
      "Epoch 18/30\n",
      "40/40 [==============================] - 0s 1ms/step - loss: 0.0187 - accuracy: 0.9980 - val_loss: 0.0936 - val_accuracy: 0.9648\n",
      "Epoch 19/30\n",
      "40/40 [==============================] - 0s 1ms/step - loss: 0.0163 - accuracy: 1.0000 - val_loss: 0.0913 - val_accuracy: 0.9722\n",
      "Epoch 20/30\n",
      "40/40 [==============================] - 0s 1ms/step - loss: 0.0152 - accuracy: 1.0000 - val_loss: 0.0915 - val_accuracy: 0.9741\n",
      "Epoch 21/30\n",
      "40/40 [==============================] - 0s 1ms/step - loss: 0.0140 - accuracy: 1.0000 - val_loss: 0.1546 - val_accuracy: 0.9463\n",
      "Epoch 22/30\n",
      "40/40 [==============================] - 0s 1ms/step - loss: 0.0207 - accuracy: 0.9946 - val_loss: 0.0886 - val_accuracy: 0.9741\n",
      "Epoch 23/30\n",
      "40/40 [==============================] - 0s 1ms/step - loss: 0.0134 - accuracy: 1.0000 - val_loss: 0.0899 - val_accuracy: 0.9704\n",
      "Epoch 24/30\n",
      "40/40 [==============================] - 0s 1ms/step - loss: 0.0108 - accuracy: 1.0000 - val_loss: 0.0874 - val_accuracy: 0.9667\n",
      "Epoch 25/30\n",
      "40/40 [==============================] - 0s 2ms/step - loss: 0.0112 - accuracy: 1.0000 - val_loss: 0.0857 - val_accuracy: 0.9704\n",
      "Epoch 26/30\n",
      "40/40 [==============================] - 0s 1ms/step - loss: 0.0115 - accuracy: 1.0000 - val_loss: 0.0847 - val_accuracy: 0.9722\n",
      "Epoch 27/30\n",
      "40/40 [==============================] - 0s 1ms/step - loss: 0.0101 - accuracy: 1.0000 - val_loss: 0.0873 - val_accuracy: 0.9685\n",
      "Epoch 28/30\n",
      "40/40 [==============================] - 0s 1ms/step - loss: 0.0103 - accuracy: 1.0000 - val_loss: 0.0844 - val_accuracy: 0.9722\n",
      "Epoch 29/30\n",
      "40/40 [==============================] - 0s 1ms/step - loss: 0.0109 - accuracy: 1.0000 - val_loss: 0.0873 - val_accuracy: 0.9741\n",
      "Epoch 30/30\n",
      "40/40 [==============================] - 0s 1ms/step - loss: 0.0091 - accuracy: 1.0000 - val_loss: 0.0850 - val_accuracy: 0.9722\n",
      "time : 2.1456639766693115\n"
     ]
    }
   ],
   "source": [
    "#60181891 박재민\n",
    "import sys\n",
    "\n",
    "assert sys.version_info >= (3, 5)\n",
    "from tensorflow import keras\n",
    "# 사이킷런 ≥0.20 필수\n",
    "import sklearn\n",
    "\n",
    "assert sklearn.__version__ >= \"0.20\"\n",
    "\n",
    "# 텐서플로 ≥2.0 필수\n",
    "import tensorflow as tf\n",
    "\n",
    "assert tf.__version__ >= \"2.0\"\n",
    "\n",
    "# 공통 모듈 임포트\n",
    "import numpy as np\n",
    "import os\n",
    "import matplotlib as mpl\n",
    "import matplotlib.pyplot as plt\n",
    "\n",
    "import pandas as pd\n",
    "import time\n",
    "\n",
    "from sklearn.datasets import load_digits\n",
    "from sklearn.model_selection import train_test_split\n",
    "\n",
    "digits = load_digits()\n",
    "x_data = digits.data\n",
    "y_data = digits.target\n",
    "test_x = (np.expand_dims(x_data,axis=1)).reshape(1797,8,8) #숫자형태로 reshape\n",
    "\n",
    "x_train, x_test, y_train, y_test = train_test_split(test_x, y_data, test_size=0.3)\n",
    "\n",
    "\n",
    "\n",
    "model = keras.models.Sequential()\n",
    "\n",
    "model.add(keras.layers.Flatten(input_shape=[8, 8]))\n",
    "model.add(keras.layers.Dense(300, activation=\"relu\"))\n",
    "model.add(keras.layers.Dense(100, activation=\"relu\"))\n",
    "model.add(keras.layers.Dense(10, activation=\"softmax\"))\n",
    "\n",
    "model.compile(loss=\"sparse_categorical_crossentropy\",\n",
    "              optimizer=\"sgd\",\n",
    "              metrics=[\"accuracy\"])\n",
    "\n",
    "tb_hist = keras.callbacks.TensorBoard(log_dir='./graph', histogram_freq=0, write_graph=True, write_images=True)\n",
    "start = time.time()\n",
    "history = model.fit(x_train, y_train, epochs=30,\n",
    "                    validation_data=(x_test, y_test),callbacks=[tb_hist])\n",
    "print(\"time :\", time.time() - start)\n"
   ]
  },
  {
   "cell_type": "code",
   "execution_count": 10,
   "metadata": {},
   "outputs": [
    {
     "data": {
      "image/png": "[encoded data removed]",
      "text/plain": [
       "<Figure size 432x288 with 10 Axes>"
      ]
     },
     "metadata": {
      "needs_background": "light"
     },
     "output_type": "display_data"
    }
   ],
   "source": [
    "for col in range(10):\n",
    "  plt.subplot(1, 10, col + 1)\n",
    "  plt.imshow(x_test[col], cmap=\"binary\")\n",
    "  plt.axis('off')\n",
    "  plt.title(y_test[col], fontsize=12)\n",
    "plt.show()"
   ]
  }
 ],
 "metadata": {
  "interpreter": {
   "hash": "c0f75a12781c269ab9a57a22a469921f050ae98ccb66b92f2d60402d29e78ee8"
  },
  "kernelspec": {
   "display_name": "Python 3.8.12 64-bit ('mju': conda)",
   "name": "python3"
  },
  "language_info": {
   "codemirror_mode": {
    "name": "ipython",
    "version": 3
   },
   "file_extension": ".py",
   "mimetype": "text/x-python",
   "name": "python",
   "nbconvert_exporter": "python",
   "pygments_lexer": "ipython3",
   "version": "3.8.12"
  },
  "orig_nbformat": 4
 },
 "nbformat": 4,
 "nbformat_minor": 2
}
